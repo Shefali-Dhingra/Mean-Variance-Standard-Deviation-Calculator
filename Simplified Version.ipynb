{
 "cells": [
  {
   "cell_type": "code",
   "execution_count": 15,
   "id": "f3b28af2",
   "metadata": {},
   "outputs": [],
   "source": [
    "list=[0,1,2,3,4,5,6,7,8]"
   ]
  },
  {
   "cell_type": "code",
   "execution_count": 26,
   "id": "6686479c",
   "metadata": {},
   "outputs": [],
   "source": [
    "import numpy as np\n",
    "\n",
    "def calculate(list):\n",
    "    try:\n",
    "        arr = np.array(list).reshape(3,3)\n",
    "        calculations={}\n",
    "        arr=np.array(list)\n",
    "        arr=arr.reshape((3,3))\n",
    "        calculations['mean']=[(arr.mean(axis=0)).tolist(),(arr.mean(axis=1)).tolist(),arr.mean()]\n",
    "        calculations['variance']=[(arr.var(axis=0)).tolist(),arr.var(axis=1).tolist(),arr.var()]\n",
    "        calculations['standard deviation']=[arr.std(axis=0).tolist(),arr.std(axis=1).tolist(),arr.std()]\n",
    "        calculations['max']=[arr.max(axis=0).tolist(),arr.max(axis=1).tolist(),arr.max()]\n",
    "        calculations['min']=[arr.min(axis=0).tolist(),arr.min(axis=1).tolist(),arr.min()]\n",
    "        calculations['sum']=[arr.sum(axis=0).tolist(),arr.sum(axis=1).tolist(),arr.sum()]\n",
    "        return calculations\n",
    "    except :\n",
    "        raise ValueError(\"List must contain nine numbers.\")"
   ]
  },
  {
   "cell_type": "code",
   "execution_count": 27,
   "id": "a925e197",
   "metadata": {},
   "outputs": [
    {
     "data": {
      "text/plain": [
       "{'mean': [[3.0, 4.0, 5.0], [1.0, 4.0, 7.0], 4.0],\n",
       " 'variance': [[6.0, 6.0, 6.0],\n",
       "  [0.6666666666666666, 0.6666666666666666, 0.6666666666666666],\n",
       "  6.666666666666667],\n",
       " 'standard deviation': [[2.449489742783178,\n",
       "   2.449489742783178,\n",
       "   2.449489742783178],\n",
       "  [0.816496580927726, 0.816496580927726, 0.816496580927726],\n",
       "  2.581988897471611],\n",
       " 'max': [[6, 7, 8], [2, 5, 8], 8],\n",
       " 'min': [[0, 1, 2], [0, 3, 6], 0],\n",
       " 'sum': [[9, 12, 15], [3, 12, 21], 36]}"
      ]
     },
     "execution_count": 27,
     "metadata": {},
     "output_type": "execute_result"
    }
   ],
   "source": [
    "calculate(list)"
   ]
  },
  {
   "cell_type": "markdown",
   "id": "f91ebe21",
   "metadata": {},
   "source": [
    "https://replit.com/@ShefaliDhingra/boilerplate-mean-variance-standard-deviation-calculator-2#mean_var_std.py"
   ]
  }
 ],
 "metadata": {
  "kernelspec": {
   "display_name": "Python 3",
   "language": "python",
   "name": "python3"
  },
  "language_info": {
   "codemirror_mode": {
    "name": "ipython",
    "version": 3
   },
   "file_extension": ".py",
   "mimetype": "text/x-python",
   "name": "python",
   "nbconvert_exporter": "python",
   "pygments_lexer": "ipython3",
   "version": "3.9.5"
  }
 },
 "nbformat": 4,
 "nbformat_minor": 5
}
